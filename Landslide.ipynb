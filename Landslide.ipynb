{
 "cells": [
  {
   "cell_type": "code",
   "execution_count": 431,
   "metadata": {},
   "outputs": [],
   "source": [
    "import pandas as pd\n",
    "import numpy as np\n",
    "\n",
    "from sklearn.model_selection import train_test_split\n",
    "from sklearn.linear_model import LinearRegression\n",
    "from sklearn.metrics import r2_score\n",
    "import matplotlib.pyplot as plt\n",
    "import seaborn as sns\n",
    "import warnings\n",
    "warnings.filterwarnings(\"ignore\")"
   ]
  },
  {
   "cell_type": "code",
   "execution_count": 432,
   "metadata": {},
   "outputs": [],
   "source": [
    "startup_df = pd.read_csv('https://thingspeak.com/channels/1874887/feed.csv')"
   ]
  },
  {
   "cell_type": "code",
   "execution_count": 433,
   "metadata": {},
   "outputs": [
    {
     "data": {
      "text/html": [
       "<div>\n",
       "<style scoped>\n",
       "    .dataframe tbody tr th:only-of-type {\n",
       "        vertical-align: middle;\n",
       "    }\n",
       "\n",
       "    .dataframe tbody tr th {\n",
       "        vertical-align: top;\n",
       "    }\n",
       "\n",
       "    .dataframe thead th {\n",
       "        text-align: right;\n",
       "    }\n",
       "</style>\n",
       "<table border=\"1\" class=\"dataframe\">\n",
       "  <thead>\n",
       "    <tr style=\"text-align: right;\">\n",
       "      <th></th>\n",
       "      <th>created_at</th>\n",
       "      <th>entry_id</th>\n",
       "      <th>field1</th>\n",
       "      <th>field2</th>\n",
       "      <th>field3</th>\n",
       "      <th>field4</th>\n",
       "      <th>field5</th>\n",
       "      <th>field6</th>\n",
       "      <th>field7</th>\n",
       "    </tr>\n",
       "  </thead>\n",
       "  <tbody>\n",
       "    <tr>\n",
       "      <th>0</th>\n",
       "      <td>2023-02-21 05:05:23 UTC</td>\n",
       "      <td>312</td>\n",
       "      <td>-0.15</td>\n",
       "      <td>17.31</td>\n",
       "      <td>36.1</td>\n",
       "      <td>18.5</td>\n",
       "      <td>65.30</td>\n",
       "      <td>0.0</td>\n",
       "      <td>NaN</td>\n",
       "    </tr>\n",
       "    <tr>\n",
       "      <th>1</th>\n",
       "      <td>2023-02-21 05:05:38 UTC</td>\n",
       "      <td>313</td>\n",
       "      <td>-0.15</td>\n",
       "      <td>17.31</td>\n",
       "      <td>37.0</td>\n",
       "      <td>18.5</td>\n",
       "      <td>65.30</td>\n",
       "      <td>0.0</td>\n",
       "      <td>NaN</td>\n",
       "    </tr>\n",
       "    <tr>\n",
       "      <th>2</th>\n",
       "      <td>2023-02-21 05:05:58 UTC</td>\n",
       "      <td>314</td>\n",
       "      <td>-0.15</td>\n",
       "      <td>17.29</td>\n",
       "      <td>36.3</td>\n",
       "      <td>18.5</td>\n",
       "      <td>65.30</td>\n",
       "      <td>0.0</td>\n",
       "      <td>NaN</td>\n",
       "    </tr>\n",
       "    <tr>\n",
       "      <th>3</th>\n",
       "      <td>2023-02-21 05:06:13 UTC</td>\n",
       "      <td>315</td>\n",
       "      <td>-0.15</td>\n",
       "      <td>17.71</td>\n",
       "      <td>35.4</td>\n",
       "      <td>18.5</td>\n",
       "      <td>65.30</td>\n",
       "      <td>0.0</td>\n",
       "      <td>NaN</td>\n",
       "    </tr>\n",
       "    <tr>\n",
       "      <th>4</th>\n",
       "      <td>2023-02-21 05:06:31 UTC</td>\n",
       "      <td>316</td>\n",
       "      <td>-0.15</td>\n",
       "      <td>17.31</td>\n",
       "      <td>35.3</td>\n",
       "      <td>18.5</td>\n",
       "      <td>65.30</td>\n",
       "      <td>0.0</td>\n",
       "      <td>NaN</td>\n",
       "    </tr>\n",
       "    <tr>\n",
       "      <th>...</th>\n",
       "      <td>...</td>\n",
       "      <td>...</td>\n",
       "      <td>...</td>\n",
       "      <td>...</td>\n",
       "      <td>...</td>\n",
       "      <td>...</td>\n",
       "      <td>...</td>\n",
       "      <td>...</td>\n",
       "      <td>...</td>\n",
       "    </tr>\n",
       "    <tr>\n",
       "      <th>95</th>\n",
       "      <td>2023-02-21 05:34:25 UTC</td>\n",
       "      <td>407</td>\n",
       "      <td>-0.15</td>\n",
       "      <td>23.09</td>\n",
       "      <td>34.5</td>\n",
       "      <td>19.4</td>\n",
       "      <td>66.92</td>\n",
       "      <td>0.0</td>\n",
       "      <td>NaN</td>\n",
       "    </tr>\n",
       "    <tr>\n",
       "      <th>96</th>\n",
       "      <td>2023-02-21 05:34:44 UTC</td>\n",
       "      <td>408</td>\n",
       "      <td>-0.15</td>\n",
       "      <td>23.09</td>\n",
       "      <td>33.9</td>\n",
       "      <td>19.4</td>\n",
       "      <td>66.92</td>\n",
       "      <td>0.0</td>\n",
       "      <td>NaN</td>\n",
       "    </tr>\n",
       "    <tr>\n",
       "      <th>97</th>\n",
       "      <td>2023-02-21 05:34:59 UTC</td>\n",
       "      <td>409</td>\n",
       "      <td>-0.15</td>\n",
       "      <td>23.09</td>\n",
       "      <td>35.0</td>\n",
       "      <td>19.4</td>\n",
       "      <td>66.92</td>\n",
       "      <td>0.0</td>\n",
       "      <td>NaN</td>\n",
       "    </tr>\n",
       "    <tr>\n",
       "      <th>98</th>\n",
       "      <td>2023-02-21 05:35:19 UTC</td>\n",
       "      <td>410</td>\n",
       "      <td>-0.15</td>\n",
       "      <td>22.20</td>\n",
       "      <td>36.5</td>\n",
       "      <td>19.5</td>\n",
       "      <td>67.10</td>\n",
       "      <td>0.0</td>\n",
       "      <td>NaN</td>\n",
       "    </tr>\n",
       "    <tr>\n",
       "      <th>99</th>\n",
       "      <td>2023-02-21 05:35:38 UTC</td>\n",
       "      <td>411</td>\n",
       "      <td>-0.15</td>\n",
       "      <td>22.63</td>\n",
       "      <td>39.6</td>\n",
       "      <td>19.5</td>\n",
       "      <td>67.10</td>\n",
       "      <td>0.0</td>\n",
       "      <td>NaN</td>\n",
       "    </tr>\n",
       "  </tbody>\n",
       "</table>\n",
       "<p>100 rows × 9 columns</p>\n",
       "</div>"
      ],
      "text/plain": [
       "                 created_at  entry_id  field1  field2  field3  field4  field5  \\\n",
       "0   2023-02-21 05:05:23 UTC       312   -0.15   17.31    36.1    18.5   65.30   \n",
       "1   2023-02-21 05:05:38 UTC       313   -0.15   17.31    37.0    18.5   65.30   \n",
       "2   2023-02-21 05:05:58 UTC       314   -0.15   17.29    36.3    18.5   65.30   \n",
       "3   2023-02-21 05:06:13 UTC       315   -0.15   17.71    35.4    18.5   65.30   \n",
       "4   2023-02-21 05:06:31 UTC       316   -0.15   17.31    35.3    18.5   65.30   \n",
       "..                      ...       ...     ...     ...     ...     ...     ...   \n",
       "95  2023-02-21 05:34:25 UTC       407   -0.15   23.09    34.5    19.4   66.92   \n",
       "96  2023-02-21 05:34:44 UTC       408   -0.15   23.09    33.9    19.4   66.92   \n",
       "97  2023-02-21 05:34:59 UTC       409   -0.15   23.09    35.0    19.4   66.92   \n",
       "98  2023-02-21 05:35:19 UTC       410   -0.15   22.20    36.5    19.5   67.10   \n",
       "99  2023-02-21 05:35:38 UTC       411   -0.15   22.63    39.6    19.5   67.10   \n",
       "\n",
       "    field6  field7  \n",
       "0      0.0     NaN  \n",
       "1      0.0     NaN  \n",
       "2      0.0     NaN  \n",
       "3      0.0     NaN  \n",
       "4      0.0     NaN  \n",
       "..     ...     ...  \n",
       "95     0.0     NaN  \n",
       "96     0.0     NaN  \n",
       "97     0.0     NaN  \n",
       "98     0.0     NaN  \n",
       "99     0.0     NaN  \n",
       "\n",
       "[100 rows x 9 columns]"
      ]
     },
     "execution_count": 433,
     "metadata": {},
     "output_type": "execute_result"
    }
   ],
   "source": [
    "startup_df.head(100)"
   ]
  },
  {
   "cell_type": "code",
   "execution_count": 434,
   "metadata": {},
   "outputs": [
    {
     "name": "stdout",
     "output_type": "stream",
     "text": [
      "<class 'pandas.core.frame.DataFrame'>\n",
      "RangeIndex: 100 entries, 0 to 99\n",
      "Data columns (total 9 columns):\n",
      " #   Column      Non-Null Count  Dtype  \n",
      "---  ------      --------------  -----  \n",
      " 0   created_at  100 non-null    object \n",
      " 1   entry_id    100 non-null    int64  \n",
      " 2   field1      100 non-null    float64\n",
      " 3   field2      100 non-null    float64\n",
      " 4   field3      100 non-null    float64\n",
      " 5   field4      100 non-null    float64\n",
      " 6   field5      100 non-null    float64\n",
      " 7   field6      100 non-null    float64\n",
      " 8   field7      0 non-null      float64\n",
      "dtypes: float64(7), int64(1), object(1)\n",
      "memory usage: 7.2+ KB\n"
     ]
    }
   ],
   "source": [
    "startup_df.info()"
   ]
  },
  {
   "cell_type": "code",
   "execution_count": 435,
   "metadata": {},
   "outputs": [
    {
     "data": {
      "text/plain": [
       "created_at      0\n",
       "entry_id        0\n",
       "field1          0\n",
       "field2          0\n",
       "field3          0\n",
       "field4          0\n",
       "field5          0\n",
       "field6          0\n",
       "field7        100\n",
       "dtype: int64"
      ]
     },
     "execution_count": 435,
     "metadata": {},
     "output_type": "execute_result"
    }
   ],
   "source": [
    "startup_df.isnull().sum()"
   ]
  },
  {
   "cell_type": "code",
   "execution_count": 436,
   "metadata": {},
   "outputs": [
    {
     "data": {
      "text/html": [
       "<div>\n",
       "<style scoped>\n",
       "    .dataframe tbody tr th:only-of-type {\n",
       "        vertical-align: middle;\n",
       "    }\n",
       "\n",
       "    .dataframe tbody tr th {\n",
       "        vertical-align: top;\n",
       "    }\n",
       "\n",
       "    .dataframe thead th {\n",
       "        text-align: right;\n",
       "    }\n",
       "</style>\n",
       "<table border=\"1\" class=\"dataframe\">\n",
       "  <thead>\n",
       "    <tr style=\"text-align: right;\">\n",
       "      <th></th>\n",
       "      <th>entry_id</th>\n",
       "      <th>field1</th>\n",
       "      <th>field2</th>\n",
       "      <th>field3</th>\n",
       "      <th>field4</th>\n",
       "      <th>field5</th>\n",
       "      <th>field6</th>\n",
       "      <th>field7</th>\n",
       "    </tr>\n",
       "  </thead>\n",
       "  <tbody>\n",
       "    <tr>\n",
       "      <th>count</th>\n",
       "      <td>100.000000</td>\n",
       "      <td>100.00</td>\n",
       "      <td>100.000000</td>\n",
       "      <td>100.000000</td>\n",
       "      <td>100.000000</td>\n",
       "      <td>100.000000</td>\n",
       "      <td>100.0</td>\n",
       "      <td>0.0</td>\n",
       "    </tr>\n",
       "    <tr>\n",
       "      <th>mean</th>\n",
       "      <td>361.500000</td>\n",
       "      <td>-0.15</td>\n",
       "      <td>21.653300</td>\n",
       "      <td>35.282000</td>\n",
       "      <td>19.177000</td>\n",
       "      <td>66.518600</td>\n",
       "      <td>0.0</td>\n",
       "      <td>NaN</td>\n",
       "    </tr>\n",
       "    <tr>\n",
       "      <th>std</th>\n",
       "      <td>29.011492</td>\n",
       "      <td>0.00</td>\n",
       "      <td>2.951804</td>\n",
       "      <td>2.421636</td>\n",
       "      <td>0.462941</td>\n",
       "      <td>0.833293</td>\n",
       "      <td>0.0</td>\n",
       "      <td>NaN</td>\n",
       "    </tr>\n",
       "    <tr>\n",
       "      <th>min</th>\n",
       "      <td>312.000000</td>\n",
       "      <td>-0.15</td>\n",
       "      <td>16.850000</td>\n",
       "      <td>30.900000</td>\n",
       "      <td>18.500000</td>\n",
       "      <td>65.300000</td>\n",
       "      <td>0.0</td>\n",
       "      <td>NaN</td>\n",
       "    </tr>\n",
       "    <tr>\n",
       "      <th>25%</th>\n",
       "      <td>336.750000</td>\n",
       "      <td>-0.15</td>\n",
       "      <td>17.710000</td>\n",
       "      <td>33.875000</td>\n",
       "      <td>18.700000</td>\n",
       "      <td>65.660000</td>\n",
       "      <td>0.0</td>\n",
       "      <td>NaN</td>\n",
       "    </tr>\n",
       "    <tr>\n",
       "      <th>50%</th>\n",
       "      <td>361.500000</td>\n",
       "      <td>-0.15</td>\n",
       "      <td>23.090000</td>\n",
       "      <td>34.850000</td>\n",
       "      <td>19.400000</td>\n",
       "      <td>66.920000</td>\n",
       "      <td>0.0</td>\n",
       "      <td>NaN</td>\n",
       "    </tr>\n",
       "    <tr>\n",
       "      <th>75%</th>\n",
       "      <td>386.250000</td>\n",
       "      <td>-0.15</td>\n",
       "      <td>23.685000</td>\n",
       "      <td>36.725000</td>\n",
       "      <td>19.500000</td>\n",
       "      <td>67.100000</td>\n",
       "      <td>0.0</td>\n",
       "      <td>NaN</td>\n",
       "    </tr>\n",
       "    <tr>\n",
       "      <th>max</th>\n",
       "      <td>411.000000</td>\n",
       "      <td>-0.15</td>\n",
       "      <td>26.350000</td>\n",
       "      <td>43.800000</td>\n",
       "      <td>19.900000</td>\n",
       "      <td>67.820000</td>\n",
       "      <td>0.0</td>\n",
       "      <td>NaN</td>\n",
       "    </tr>\n",
       "  </tbody>\n",
       "</table>\n",
       "</div>"
      ],
      "text/plain": [
       "         entry_id  field1      field2      field3      field4      field5  \\\n",
       "count  100.000000  100.00  100.000000  100.000000  100.000000  100.000000   \n",
       "mean   361.500000   -0.15   21.653300   35.282000   19.177000   66.518600   \n",
       "std     29.011492    0.00    2.951804    2.421636    0.462941    0.833293   \n",
       "min    312.000000   -0.15   16.850000   30.900000   18.500000   65.300000   \n",
       "25%    336.750000   -0.15   17.710000   33.875000   18.700000   65.660000   \n",
       "50%    361.500000   -0.15   23.090000   34.850000   19.400000   66.920000   \n",
       "75%    386.250000   -0.15   23.685000   36.725000   19.500000   67.100000   \n",
       "max    411.000000   -0.15   26.350000   43.800000   19.900000   67.820000   \n",
       "\n",
       "       field6  field7  \n",
       "count   100.0     0.0  \n",
       "mean      0.0     NaN  \n",
       "std       0.0     NaN  \n",
       "min       0.0     NaN  \n",
       "25%       0.0     NaN  \n",
       "50%       0.0     NaN  \n",
       "75%       0.0     NaN  \n",
       "max       0.0     NaN  "
      ]
     },
     "execution_count": 436,
     "metadata": {},
     "output_type": "execute_result"
    }
   ],
   "source": [
    "#Statistical Details of the dataset\n",
    "startup_df.describe()\n"
   ]
  },
  {
   "cell_type": "code",
   "execution_count": 437,
   "metadata": {},
   "outputs": [
    {
     "name": "stdout",
     "output_type": "stream",
     "text": [
      "Total number of rows with missing values is  100\n",
      "since it is only 100 percent of the entire dataset the rows with missing values are excluded.\n"
     ]
    }
   ],
   "source": [
    "count=0\n",
    "for i in startup_df.isnull().sum(axis=1):\n",
    "    if i>0:\n",
    "        count=count+1\n",
    "print('Total number of rows with missing values is ', count)\n",
    "print('since it is only',round((count/len(startup_df.index))*100), 'percent of the entire dataset the rows with missing values are excluded.')"
   ]
  },
  {
   "cell_type": "code",
   "execution_count": 438,
   "metadata": {},
   "outputs": [],
   "source": [
    "x=startup_df.iloc[:,2:8]\n",
    "y=startup_df.iloc[:,2]\n"
   ]
  },
  {
   "cell_type": "code",
   "execution_count": 439,
   "metadata": {},
   "outputs": [
    {
     "data": {
      "text/html": [
       "<div>\n",
       "<style scoped>\n",
       "    .dataframe tbody tr th:only-of-type {\n",
       "        vertical-align: middle;\n",
       "    }\n",
       "\n",
       "    .dataframe tbody tr th {\n",
       "        vertical-align: top;\n",
       "    }\n",
       "\n",
       "    .dataframe thead th {\n",
       "        text-align: right;\n",
       "    }\n",
       "</style>\n",
       "<table border=\"1\" class=\"dataframe\">\n",
       "  <thead>\n",
       "    <tr style=\"text-align: right;\">\n",
       "      <th></th>\n",
       "      <th>field1</th>\n",
       "      <th>field2</th>\n",
       "      <th>field3</th>\n",
       "      <th>field4</th>\n",
       "      <th>field5</th>\n",
       "      <th>field6</th>\n",
       "    </tr>\n",
       "  </thead>\n",
       "  <tbody>\n",
       "    <tr>\n",
       "      <th>0</th>\n",
       "      <td>-0.15</td>\n",
       "      <td>17.31</td>\n",
       "      <td>36.1</td>\n",
       "      <td>18.5</td>\n",
       "      <td>65.30</td>\n",
       "      <td>0.0</td>\n",
       "    </tr>\n",
       "    <tr>\n",
       "      <th>1</th>\n",
       "      <td>-0.15</td>\n",
       "      <td>17.31</td>\n",
       "      <td>37.0</td>\n",
       "      <td>18.5</td>\n",
       "      <td>65.30</td>\n",
       "      <td>0.0</td>\n",
       "    </tr>\n",
       "    <tr>\n",
       "      <th>2</th>\n",
       "      <td>-0.15</td>\n",
       "      <td>17.29</td>\n",
       "      <td>36.3</td>\n",
       "      <td>18.5</td>\n",
       "      <td>65.30</td>\n",
       "      <td>0.0</td>\n",
       "    </tr>\n",
       "    <tr>\n",
       "      <th>3</th>\n",
       "      <td>-0.15</td>\n",
       "      <td>17.71</td>\n",
       "      <td>35.4</td>\n",
       "      <td>18.5</td>\n",
       "      <td>65.30</td>\n",
       "      <td>0.0</td>\n",
       "    </tr>\n",
       "    <tr>\n",
       "      <th>4</th>\n",
       "      <td>-0.15</td>\n",
       "      <td>17.31</td>\n",
       "      <td>35.3</td>\n",
       "      <td>18.5</td>\n",
       "      <td>65.30</td>\n",
       "      <td>0.0</td>\n",
       "    </tr>\n",
       "    <tr>\n",
       "      <th>...</th>\n",
       "      <td>...</td>\n",
       "      <td>...</td>\n",
       "      <td>...</td>\n",
       "      <td>...</td>\n",
       "      <td>...</td>\n",
       "      <td>...</td>\n",
       "    </tr>\n",
       "    <tr>\n",
       "      <th>95</th>\n",
       "      <td>-0.15</td>\n",
       "      <td>23.09</td>\n",
       "      <td>34.5</td>\n",
       "      <td>19.4</td>\n",
       "      <td>66.92</td>\n",
       "      <td>0.0</td>\n",
       "    </tr>\n",
       "    <tr>\n",
       "      <th>96</th>\n",
       "      <td>-0.15</td>\n",
       "      <td>23.09</td>\n",
       "      <td>33.9</td>\n",
       "      <td>19.4</td>\n",
       "      <td>66.92</td>\n",
       "      <td>0.0</td>\n",
       "    </tr>\n",
       "    <tr>\n",
       "      <th>97</th>\n",
       "      <td>-0.15</td>\n",
       "      <td>23.09</td>\n",
       "      <td>35.0</td>\n",
       "      <td>19.4</td>\n",
       "      <td>66.92</td>\n",
       "      <td>0.0</td>\n",
       "    </tr>\n",
       "    <tr>\n",
       "      <th>98</th>\n",
       "      <td>-0.15</td>\n",
       "      <td>22.20</td>\n",
       "      <td>36.5</td>\n",
       "      <td>19.5</td>\n",
       "      <td>67.10</td>\n",
       "      <td>0.0</td>\n",
       "    </tr>\n",
       "    <tr>\n",
       "      <th>99</th>\n",
       "      <td>-0.15</td>\n",
       "      <td>22.63</td>\n",
       "      <td>39.6</td>\n",
       "      <td>19.5</td>\n",
       "      <td>67.10</td>\n",
       "      <td>0.0</td>\n",
       "    </tr>\n",
       "  </tbody>\n",
       "</table>\n",
       "<p>100 rows × 6 columns</p>\n",
       "</div>"
      ],
      "text/plain": [
       "    field1  field2  field3  field4  field5  field6\n",
       "0    -0.15   17.31    36.1    18.5   65.30     0.0\n",
       "1    -0.15   17.31    37.0    18.5   65.30     0.0\n",
       "2    -0.15   17.29    36.3    18.5   65.30     0.0\n",
       "3    -0.15   17.71    35.4    18.5   65.30     0.0\n",
       "4    -0.15   17.31    35.3    18.5   65.30     0.0\n",
       "..     ...     ...     ...     ...     ...     ...\n",
       "95   -0.15   23.09    34.5    19.4   66.92     0.0\n",
       "96   -0.15   23.09    33.9    19.4   66.92     0.0\n",
       "97   -0.15   23.09    35.0    19.4   66.92     0.0\n",
       "98   -0.15   22.20    36.5    19.5   67.10     0.0\n",
       "99   -0.15   22.63    39.6    19.5   67.10     0.0\n",
       "\n",
       "[100 rows x 6 columns]"
      ]
     },
     "execution_count": 439,
     "metadata": {},
     "output_type": "execute_result"
    }
   ],
   "source": [
    "x"
   ]
  },
  {
   "cell_type": "code",
   "execution_count": 440,
   "metadata": {},
   "outputs": [
    {
     "data": {
      "text/plain": [
       "0    -0.15\n",
       "1    -0.15\n",
       "2    -0.15\n",
       "3    -0.15\n",
       "4    -0.15\n",
       "      ... \n",
       "95   -0.15\n",
       "96   -0.15\n",
       "97   -0.15\n",
       "98   -0.15\n",
       "99   -0.15\n",
       "Name: field1, Length: 100, dtype: float64"
      ]
     },
     "execution_count": 440,
     "metadata": {},
     "output_type": "execute_result"
    }
   ],
   "source": [
    "y"
   ]
  },
  {
   "cell_type": "code",
   "execution_count": 441,
   "metadata": {},
   "outputs": [],
   "source": [
    "x_train,x_test,y_train,y_test=train_test_split(x,y,test_size=0.2,random_state=0)"
   ]
  },
  {
   "cell_type": "code",
   "execution_count": 442,
   "metadata": {},
   "outputs": [
    {
     "name": "stdout",
     "output_type": "stream",
     "text": [
      "X_train: (80, 6)\n",
      "X_test: (20, 6)\n",
      "Y_train: (80,)\n",
      "Y_test: (20,)\n"
     ]
    }
   ],
   "source": [
    "#shapes of splitted data\n",
    "print(\"X_train:\",x_train.shape)\n",
    "print(\"X_test:\",x_test.shape)\n",
    "print(\"Y_train:\",y_train.shape)\n",
    "print(\"Y_test:\",y_test.shape)\n"
   ]
  },
  {
   "cell_type": "code",
   "execution_count": 443,
   "metadata": {},
   "outputs": [
    {
     "data": {
      "text/html": [
       "<style>#sk-container-id-26 {color: black;background-color: white;}#sk-container-id-26 pre{padding: 0;}#sk-container-id-26 div.sk-toggleable {background-color: white;}#sk-container-id-26 label.sk-toggleable__label {cursor: pointer;display: block;width: 100%;margin-bottom: 0;padding: 0.3em;box-sizing: border-box;text-align: center;}#sk-container-id-26 label.sk-toggleable__label-arrow:before {content: \"▸\";float: left;margin-right: 0.25em;color: #696969;}#sk-container-id-26 label.sk-toggleable__label-arrow:hover:before {color: black;}#sk-container-id-26 div.sk-estimator:hover label.sk-toggleable__label-arrow:before {color: black;}#sk-container-id-26 div.sk-toggleable__content {max-height: 0;max-width: 0;overflow: hidden;text-align: left;background-color: #f0f8ff;}#sk-container-id-26 div.sk-toggleable__content pre {margin: 0.2em;color: black;border-radius: 0.25em;background-color: #f0f8ff;}#sk-container-id-26 input.sk-toggleable__control:checked~div.sk-toggleable__content {max-height: 200px;max-width: 100%;overflow: auto;}#sk-container-id-26 input.sk-toggleable__control:checked~label.sk-toggleable__label-arrow:before {content: \"▾\";}#sk-container-id-26 div.sk-estimator input.sk-toggleable__control:checked~label.sk-toggleable__label {background-color: #d4ebff;}#sk-container-id-26 div.sk-label input.sk-toggleable__control:checked~label.sk-toggleable__label {background-color: #d4ebff;}#sk-container-id-26 input.sk-hidden--visually {border: 0;clip: rect(1px 1px 1px 1px);clip: rect(1px, 1px, 1px, 1px);height: 1px;margin: -1px;overflow: hidden;padding: 0;position: absolute;width: 1px;}#sk-container-id-26 div.sk-estimator {font-family: monospace;background-color: #f0f8ff;border: 1px dotted black;border-radius: 0.25em;box-sizing: border-box;margin-bottom: 0.5em;}#sk-container-id-26 div.sk-estimator:hover {background-color: #d4ebff;}#sk-container-id-26 div.sk-parallel-item::after {content: \"\";width: 100%;border-bottom: 1px solid gray;flex-grow: 1;}#sk-container-id-26 div.sk-label:hover label.sk-toggleable__label {background-color: #d4ebff;}#sk-container-id-26 div.sk-serial::before {content: \"\";position: absolute;border-left: 1px solid gray;box-sizing: border-box;top: 0;bottom: 0;left: 50%;z-index: 0;}#sk-container-id-26 div.sk-serial {display: flex;flex-direction: column;align-items: center;background-color: white;padding-right: 0.2em;padding-left: 0.2em;position: relative;}#sk-container-id-26 div.sk-item {position: relative;z-index: 1;}#sk-container-id-26 div.sk-parallel {display: flex;align-items: stretch;justify-content: center;background-color: white;position: relative;}#sk-container-id-26 div.sk-item::before, #sk-container-id-26 div.sk-parallel-item::before {content: \"\";position: absolute;border-left: 1px solid gray;box-sizing: border-box;top: 0;bottom: 0;left: 50%;z-index: -1;}#sk-container-id-26 div.sk-parallel-item {display: flex;flex-direction: column;z-index: 1;position: relative;background-color: white;}#sk-container-id-26 div.sk-parallel-item:first-child::after {align-self: flex-end;width: 50%;}#sk-container-id-26 div.sk-parallel-item:last-child::after {align-self: flex-start;width: 50%;}#sk-container-id-26 div.sk-parallel-item:only-child::after {width: 0;}#sk-container-id-26 div.sk-dashed-wrapped {border: 1px dashed gray;margin: 0 0.4em 0.5em 0.4em;box-sizing: border-box;padding-bottom: 0.4em;background-color: white;}#sk-container-id-26 div.sk-label label {font-family: monospace;font-weight: bold;display: inline-block;line-height: 1.2em;}#sk-container-id-26 div.sk-label-container {text-align: center;}#sk-container-id-26 div.sk-container {/* jupyter's `normalize.less` sets `[hidden] { display: none; }` but bootstrap.min.css set `[hidden] { display: none !important; }` so we also need the `!important` here to be able to override the default hidden behavior on the sphinx rendered scikit-learn.org. See: https://github.com/scikit-learn/scikit-learn/issues/21755 */display: inline-block !important;position: relative;}#sk-container-id-26 div.sk-text-repr-fallback {display: none;}</style><div id=\"sk-container-id-26\" class=\"sk-top-container\"><div class=\"sk-text-repr-fallback\"><pre>LinearRegression()</pre><b>In a Jupyter environment, please rerun this cell to show the HTML representation or trust the notebook. <br />On GitHub, the HTML representation is unable to render, please try loading this page with nbviewer.org.</b></div><div class=\"sk-container\" hidden><div class=\"sk-item\"><div class=\"sk-estimator sk-toggleable\"><input class=\"sk-toggleable__control sk-hidden--visually\" id=\"sk-estimator-id-26\" type=\"checkbox\" checked><label for=\"sk-estimator-id-26\" class=\"sk-toggleable__label sk-toggleable__label-arrow\">LinearRegression</label><div class=\"sk-toggleable__content\"><pre>LinearRegression()</pre></div></div></div></div></div>"
      ],
      "text/plain": [
       "LinearRegression()"
      ]
     },
     "execution_count": 443,
     "metadata": {},
     "output_type": "execute_result"
    }
   ],
   "source": [
    "linreg=LinearRegression()\n",
    "linreg.fit(x_train,y_train)"
   ]
  },
  {
   "cell_type": "code",
   "execution_count": 444,
   "metadata": {},
   "outputs": [
    {
     "data": {
      "text/plain": [
       "array([-0.15, -0.15, -0.15, -0.15, -0.15, -0.15, -0.15, -0.15, -0.15,\n",
       "       -0.15, -0.15, -0.15, -0.15, -0.15, -0.15, -0.15, -0.15, -0.15,\n",
       "       -0.15, -0.15])"
      ]
     },
     "execution_count": 444,
     "metadata": {},
     "output_type": "execute_result"
    }
   ],
   "source": [
    "y_pred=linreg.predict(x_test)\n",
    "y_pred"
   ]
  },
  {
   "cell_type": "code",
   "execution_count": 445,
   "metadata": {},
   "outputs": [
    {
     "name": "stdout",
     "output_type": "stream",
     "text": [
      " Accuracy of the model is 55.00\n"
     ]
    }
   ],
   "source": [
    "Accuracy=r2_score(y_test,y_pred)*100\n",
    "print(\" Accuracy of the model is %.2f\" %Accuracy)\n"
   ]
  },
  {
   "cell_type": "code",
   "execution_count": 446,
   "metadata": {},
   "outputs": [],
   "source": [
    "from notifypy import Notify\n",
    "if(Accuracy <70):\n",
    "    notification = Notify()\n",
    "    notification.title = \"Landslide alert\"\n",
    "    notification.message = \"Safe area no chances of landslide\"\n",
    "    notification.send()\n",
    "elif(Accuracy>70 and Accuracy <86):\n",
    "    notification = Notify()\n",
    "    notification.title = \"Landslide alert\"\n",
    "    notification.message = \"Moderate chances of landslide be alert\"\n",
    "    notification.send()\n",
    "elif(Accuracy >86 and Accuracy <91):\n",
    "    notification = Notify()\n",
    "    notification.title = \"Landslide alert\"\n",
    "    notification.message = \"Yellow zone high chances of landslide\"\n",
    "    notification.send()\n",
    "elif(Accuracy>92 and Accuracy<100):\n",
    "    notification = Notify()\n",
    "    notification.title = \"Landslide alert\"\n",
    "    notification.message = \"Danger Zone lookout in area as there are chances of prediction\"\n",
    "    notification.send()\n",
    "elif(Accuracy == 100):\n",
    "    notification = Notify()\n",
    "    notification.title = \"Landslide alert\"\n",
    "    notification.message = \"!!!!!!!!!!!!Landslide!!!!!!!!!!!!!!!! evacuate\"\n",
    "    notification.send()\n",
    "\n"
   ]
  },
  {
   "cell_type": "code",
   "execution_count": 447,
   "metadata": {},
   "outputs": [
    {
     "data": {
      "image/png": "[encoded data removed]",
      "text/plain": [
       "<Figure size 1368x576 with 1 Axes>"
      ]
     },
     "metadata": {
      "needs_background": "light"
     },
     "output_type": "display_data"
    }
   ],
   "source": [
    "\n",
    "\n",
    "# plot the dataframe\n",
    "startup_df.plot(x=\"created_at\", y=[\"field1\", \"field2\",\"field3\",\"field4\",\"field5\",\"field6\"], kind=\"line\", figsize=(19, 8))\n",
    "plt.title('Graph on real time data')\n",
    "plt.xlabel('Time')\n",
    "plt.ylabel('Fields')\n",
    "# print bar graph\n",
    "plt.show()"
   ]
  }
 ],
 "metadata": {
  "kernelspec": {
   "display_name": "Python 3",
   "language": "python",
   "name": "python3"
  },
  "language_info": {
   "codemirror_mode": {
    "name": "ipython",
    "version": 3
   },
   "file_extension": ".py",
   "mimetype": "text/x-python",
   "name": "python",
   "nbconvert_exporter": "python",
   "pygments_lexer": "ipython3",
   "version": "3.9.7"
  },
  "orig_nbformat": 4,
  "vscode": {
   "interpreter": {
    "hash": "bf4fbbcfb44b62809ee9ef976aff62d8f85ac4ea82e40788fda9594addf376e6"
   }
  }
 },
 "nbformat": 4,
 "nbformat_minor": 2
}
